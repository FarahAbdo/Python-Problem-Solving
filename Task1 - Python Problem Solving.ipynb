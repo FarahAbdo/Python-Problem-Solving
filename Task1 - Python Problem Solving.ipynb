{
 "cells": [
  {
   "cell_type": "markdown",
   "id": "b8f1146c",
   "metadata": {},
   "source": [
    "# Task 1 "
   ]
  },
  {
   "cell_type": "markdown",
   "id": "06325b2c",
   "metadata": {},
   "source": [
    "### Q1 : Print the following pattern :\n",
    "1  \n",
    "\n",
    "2 2  \n",
    "\n",
    "3 3 3  \n",
    "\n",
    "4 4 4 4  \n",
    "\n",
    "5 5 5 5 5"
   ]
  },
  {
   "cell_type": "code",
   "execution_count": 3,
   "id": "0abecb2f",
   "metadata": {},
   "outputs": [
    {
     "name": "stdout",
     "output_type": "stream",
     "text": [
      "Enter the no. of rows3\n",
      "\n",
      "1\n",
      "22\n"
     ]
    }
   ],
   "source": [
    "r = int(input('Enter the no. of rows'))\n",
    "for i in range(r):\n",
    "    for j in range(i):\n",
    "        print(i , end = '')\n",
    "    print('')"
   ]
  },
  {
   "cell_type": "markdown",
   "id": "4fbeb935",
   "metadata": {},
   "source": [
    "### Q2 : Display number divisible by 5 from a list :\n",
    "##### Iterate the given list of numbers and print only those numbers which are divisible by 5  "
   ]
  },
  {
   "cell_type": "code",
   "execution_count": 23,
   "id": "cfa54147",
   "metadata": {},
   "outputs": [
    {
     "name": "stdout",
     "output_type": "stream",
     "text": [
      "Given list [2, 12, 13, 18, 20, 30, 10]\n",
      "20\n",
      "30\n",
      "10\n",
      "None\n"
     ]
    }
   ],
   "source": [
    "def div(list1):\n",
    "    print(\"Given list\",list1)\n",
    "    for num in list1:\n",
    "         if num % 5 == 0:\n",
    "            print(num)\n",
    "x=[2,12,13,18,20,30,10]\n",
    "print(div(x))"
   ]
  },
  {
   "cell_type": "markdown",
   "id": "ffea9932",
   "metadata": {},
   "source": [
    "### Q3 :  Return the count of a given substring from a string \n",
    "##### Write a program to find how much times substring \"Emma\" appears in the given string .\n",
    "Given :\n",
    "str_x = \"Emma is good developer, Emma is a writer\""
   ]
  },
  {
   "cell_type": "code",
   "execution_count": 13,
   "id": "3a478f02",
   "metadata": {},
   "outputs": [
    {
     "name": "stdout",
     "output_type": "stream",
     "text": [
      "2\n"
     ]
    }
   ],
   "source": [
    "str_x = \"Emma is good developer. Emma is a writer\"\n",
    "count = str_x.count(\"Emma\")\n",
    "print(count)"
   ]
  },
  {
   "cell_type": "markdown",
   "id": "762624a4",
   "metadata": {},
   "source": [
    "### Q4 : Check if the first and last number of a list is the same\n",
    "##### Write a function to return True if the first and last number of a given list is same. If numbers are different then return False.\n",
    "\n",
    "Given:\n",
    "\n",
    "numbers_x = [10, 20, 30, 40, 10]\n",
    "\n",
    "numbers_y = [75, 65, 35, 75, 30]"
   ]
  },
  {
   "cell_type": "code",
   "execution_count": 18,
   "id": "734fe0c2",
   "metadata": {},
   "outputs": [
    {
     "name": "stdout",
     "output_type": "stream",
     "text": [
      "True\n",
      "False\n"
     ]
    }
   ],
   "source": [
    "def same_first_last(nums):\n",
    "    if nums[0] == nums[-1]:\n",
    "        return True\n",
    "\n",
    "    return False\n",
    "\n",
    "numbers_x = [10, 20, 30, 40, 10]\n",
    "\n",
    "numbers_y = [75, 65, 35, 75, 30]\n",
    "\n",
    "print(same_first_last(numbers_x))\n",
    "print(same_first_last(numbers_y))\n"
   ]
  },
  {
   "cell_type": "markdown",
   "id": "0fb86316",
   "metadata": {},
   "source": [
    "### Q5 : Check Palindrome Number \n",
    "\n",
    "##### Write a program to check if the given number is a palindrome number.\n",
    "\n",
    "##### A palindrome number is a number that is same after reverse. For example 545, is the palindrome numbers"
   ]
  },
  {
   "cell_type": "code",
   "execution_count": 20,
   "id": "f83a8dd9",
   "metadata": {},
   "outputs": [
    {
     "name": "stdout",
     "output_type": "stream",
     "text": [
      "pallindrome\n",
      "None\n"
     ]
    }
   ],
   "source": [
    "def check(Num):\n",
    "    Num = str(Num)\n",
    "\n",
    "    if(Num == Num[::-1]):\n",
    "        print('pallindrome')\n",
    "\n",
    "    else:\n",
    "        print('not palindrome')\n",
    "\n",
    "Num = 121\n",
    "print(check(Num))"
   ]
  },
  {
   "cell_type": "markdown",
   "id": "ce647ac6",
   "metadata": {},
   "source": [
    "### Q6 : Reverse Tuple"
   ]
  },
  {
   "cell_type": "code",
   "execution_count": 21,
   "id": "8fd8e074",
   "metadata": {},
   "outputs": [
    {
     "name": "stdout",
     "output_type": "stream",
     "text": [
      "(50, 40, 30, 20, 10)\n"
     ]
    }
   ],
   "source": [
    "x = [10,20,30,40,50]\n",
    "y = reversed(x)\n",
    "print(tuple(y))"
   ]
  }
 ],
 "metadata": {
  "kernelspec": {
   "display_name": "Python 3",
   "language": "python",
   "name": "python3"
  },
  "language_info": {
   "codemirror_mode": {
    "name": "ipython",
    "version": 3
   },
   "file_extension": ".py",
   "mimetype": "text/x-python",
   "name": "python",
   "nbconvert_exporter": "python",
   "pygments_lexer": "ipython3",
   "version": "3.8.8"
  }
 },
 "nbformat": 4,
 "nbformat_minor": 5
}
