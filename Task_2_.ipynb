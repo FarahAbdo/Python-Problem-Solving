{
  "nbformat": 4,
  "nbformat_minor": 0,
  "metadata": {
    "colab": {
      "provenance": [],
      "collapsed_sections": []
    },
    "kernelspec": {
      "name": "python3",
      "display_name": "Python 3"
    },
    "language_info": {
      "name": "python"
    }
  },
  "cells": [
    {
      "cell_type": "code",
      "execution_count": 16,
      "metadata": {
        "colab": {
          "base_uri": "https://localhost:8080/"
        },
        "id": "ik-yRIuiGDCE",
        "outputId": "7fa87825-500b-478d-b310-5d82e83a2e12"
      },
      "outputs": [
        {
          "output_type": "stream",
          "name": "stdout",
          "text": [
            "20\n"
          ]
        }
      ],
      "source": [
        "tuplee = (\"orange\",[10,20,30],[5,15,25])\n",
        "x = tuplee[1]\n",
        "y = list(x)\n",
        "print(y[1])"
      ]
    },
    {
      "cell_type": "code",
      "source": [
        "tupleee = tuple([50])\n",
        "print(tupleee)"
      ],
      "metadata": {
        "colab": {
          "base_uri": "https://localhost:8080/"
        },
        "id": "IITPjztjIh3A",
        "outputId": "65f709ca-64b8-470e-8ec2-83a566894a06"
      },
      "execution_count": 18,
      "outputs": [
        {
          "output_type": "stream",
          "name": "stdout",
          "text": [
            "(50,)\n"
          ]
        }
      ]
    },
    {
      "cell_type": "code",
      "source": [
        "tuplee = (10,20,30,40)\n",
        "x = tuple(tuplee)\n",
        "for i in tuplee :\n",
        "  print(i) "
      ],
      "metadata": {
        "colab": {
          "base_uri": "https://localhost:8080/"
        },
        "id": "J6OhfZsiKbVq",
        "outputId": "b7ce2e80-cdff-4e30-8338-2dc915fd6ec7"
      },
      "execution_count": 20,
      "outputs": [
        {
          "output_type": "stream",
          "name": "stdout",
          "text": [
            "10\n",
            "20\n",
            "30\n",
            "40\n"
          ]
        }
      ]
    },
    {
      "cell_type": "code",
      "source": [
        "\n",
        "from datetime import datetime \n",
        "date_string = \"Feb 25 2022 4:08PM\"\n",
        "datetime_object = datetime.strptime(date_string, \"%b %d %Y %I:%M%p\" )\n",
        "print(\"Time : \", datetime_object )"
      ],
      "metadata": {
        "colab": {
          "base_uri": "https://localhost:8080/"
        },
        "id": "JA_2irYGPO5p",
        "outputId": "c8c6c2ac-36aa-49fe-df06-502ae31c3857"
      },
      "execution_count": 25,
      "outputs": [
        {
          "output_type": "stream",
          "name": "stdout",
          "text": [
            "Time :  2022-02-25 16:08:00\n"
          ]
        }
      ]
    }
  ]
}